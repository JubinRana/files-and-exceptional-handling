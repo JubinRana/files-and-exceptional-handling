{
 "cells": [
  {
   "cell_type": "code",
   "execution_count": 1,
   "id": "dffe940d-60f6-49d3-aabb-e844f2e4b2c2",
   "metadata": {},
   "outputs": [],
   "source": [
    "#1. Discuss the scenarios where multithreading is preferable to multiprocessing and scenarios where\n",
    "#multiprocessing is a better choice."
   ]
  },
  {
   "cell_type": "markdown",
   "id": "40e1c3cb-0bac-4ec7-b9b4-637d0254de26",
   "metadata": {},
   "source": [
    "Multithreading is preferable when:\n",
    "\n",
    "1. Tasks involve I/O-bound operations (e.g., file reading, network requests) because threads can wait on I/O without blocking others.\n",
    "2. The application requires shared memory for tasks like data sharing between threads.\n",
    "3. Low resource consumption is important, as threads are lighter than processes.\n",
    "\n",
    "Multiprocessing is preferable when:\n",
    "\n",
    "1. Tasks are CPU-bound (e.g., heavy computations) because each process runs on a separate core, leveraging multiple CPUs.\n",
    "2. Tasks require isolation for better fault tolerance, as processes do not share memory.\n",
    "3. The application needs to bypass the Global Interpreter Lock (GIL) in Python, which limits the execution of threads in CPU-bound tasks."
   ]
  },
  {
   "cell_type": "code",
   "execution_count": 4,
   "id": "17c80cd4-f9b3-4168-b85a-098c4f150bd2",
   "metadata": {},
   "outputs": [],
   "source": [
    "#2. Describe what a process pool is and how it helps in managing multiple processes efficiently."
   ]
  },
  {
   "cell_type": "markdown",
   "id": "dd3cf89f-598b-4a44-9e60-2cbcaa366422",
   "metadata": {},
   "source": [
    "In Python, a process pool is a mechanism provided by the multiprocessing module that allows you to manage a pool of worker processes that can execute tasks concurrently. It provides an efficient way to handle parallel execution, particularly when dealing with CPU-bound tasks.\n",
    "\n",
    "It helps in managing multiple processes efficiently through following ways\n",
    "\n",
    "1. Reduced Overhead: Instead of creating a new process for each task, a pool of processes is used. This reduces the overhead of spawning new processes, which can be costly in terms of time and resources.\n",
    "\n",
    "2. Optimal Resource Utilization: The pool ensures that a fixed number of processes are running concurrently, which allows the program to make full use of the available CPU cores without overwhelming the system.\n",
    "\n",
    "3. Simplified Code: The Pool class abstracts the management of worker processes, making your code cleaner and easier to maintain.\n",
    "Improved Performance: By distributing tasks across multiple processes, the workload is parallelized, improving performance for CPU-bound tasks."
   ]
  },
  {
   "cell_type": "code",
   "execution_count": null,
   "id": "11baedfc-f907-435d-9a57-214b8efb5408",
   "metadata": {},
   "outputs": [],
   "source": [
    "#3. Explain what multiprocessing is and why it is used in Python programs."
   ]
  },
  {
   "cell_type": "markdown",
   "id": "cdc35030-05de-405f-8f74-dae0ace39435",
   "metadata": {},
   "source": [
    "Multiprocessing in Python refers to the concurrent execution of multiple processes, each of which runs independently and in parallel, potentially on separate CPU cores. The Python multiprocessing module provides a way to create and manage processes, which can run tasks concurrently. This is especially useful in programs that need to perform CPU-bound operations, such as mathematical computations, data processing, and image manipulation.\n",
    "\n",
    "Python's multiprocessing module allows the parallel execution of tasks, making it possible to bypass the Global Interpreter Lock (GIL), which normally prevents multiple threads from executing Python bytecode at once in a single process.\n",
    "\n",
    "Why Use Multiprocessing in Python?\n",
    "\n",
    "1. Bypassing the Global Interpreter Lock (GIL):\n",
    "\n",
    "The GIL is a mechanism in CPython (the default Python implementation) that ensures only one thread can execute Python bytecode at a time, even on multi-core systems. \n",
    "This makes Python threads less effective for CPU-bound tasks.\n",
    "Multiprocessing creates separate processes, each with its own Python interpreter and memory space, thus bypassing the GIL and enabling full parallel execution on multiple CPU cores.\n",
    "\n",
    "2. Parallel Execution of CPU-bound Tasks:\n",
    "\n",
    "For CPU-bound tasks (like complex calculations or data transformations), multiprocessing allows tasks to be divided among multiple processes, leveraging multiple CPU cores for faster execution.\n",
    "\n",
    "Python threads are generally not useful for CPU-bound tasks due to the GIL, but multiple processes can run truly in parallel.\n",
    "\n",
    "3. Better Resource Utilization:\n",
    "\n",
    "On multi-core systems, multiprocessing takes advantage of all available CPU cores, ensuring that all resources are used efficiently, which can significantly speed up processing for large datasets or computationally expensive tasks.\n",
    "\n",
    "4. Improved Program Performance:\n",
    "\n",
    "When using multiple processes, tasks can be distributed and executed concurrently, reducing the total time for large-scale tasks. This is especially useful in data-heavy programs like machine learning, data analysis, and scientific computing.\n",
    "\n",
    "5. Isolation and Fault Tolerance:\n",
    "\n",
    "Since each process in Python’s multiprocessing runs in its own memory space, failures in one process (e.g., crashes or exceptions) do not affect others. This isolation can help improve the stability of programs.\n",
    "\n",
    "6. Suitability for I/O-bound and Mixed Tasks:\n",
    "\n",
    "While multithreading is better for I/O-bound tasks, multiprocessing can still be useful when mixed tasks (I/O-bound and CPU-bound) need to be handled simultaneously."
   ]
  },
  {
   "cell_type": "code",
   "execution_count": null,
   "id": "5ffe993a-4ec3-4976-be15-0fab555aee28",
   "metadata": {},
   "outputs": [],
   "source": [
    "#4. Write a Python program using multithreading where one thread adds numbers to a list, and another\n",
    "#thread removes numbers from the list. Implement a mechanism to avoid race conditions using\n",
    "#threading.Lock."
   ]
  },
  {
   "cell_type": "code",
   "execution_count": 9,
   "id": "bd357259-88fc-4920-9d48-f82706e549f3",
   "metadata": {},
   "outputs": [
    {
     "name": "stdout",
     "output_type": "stream",
     "text": [
      "Added 0 to list. Current list: [0]\n",
      "Removed 0 from list. Current list: []\n",
      "Added 1 to list. Current list: [1]\n",
      "Added 2 to list. Current list: [1, 2]\n",
      "Removed 1 from list. Current list: [2]\n",
      "Added 3 to list. Current list: [2, 3]\n",
      "Added 4 to list. Current list: [2, 3, 4]\n",
      "Removed 2 from list. Current list: [3, 4]\n",
      "Removed 3 from list. Current list: [4]\n",
      "Removed 4 from list. Current list: []\n",
      "Final list: []\n"
     ]
    }
   ],
   "source": [
    "import threading\n",
    "import time\n",
    "\n",
    "\n",
    "shared_list = []\n",
    "lock = threading.Lock()\n",
    "\n",
    "def add_numbers():\n",
    "    for i in range(5):\n",
    "        time.sleep(0.1)\n",
    "        with lock:\n",
    "            shared_list.append(i)\n",
    "            print(f\"Added {i} to list. Current list: {shared_list}\")\n",
    "\n",
    "\n",
    "def remove_numbers():\n",
    "    for _ in range(5):\n",
    "        time.sleep(0.2)  \n",
    "        with lock:\n",
    "            if shared_list:\n",
    "                removed = shared_list.pop(0) \n",
    "                print(f\"Removed {removed} from list. Current list: {shared_list}\")\n",
    "\n",
    "thread1 = threading.Thread(target=add_numbers)\n",
    "thread2 = threading.Thread(target=remove_numbers)\n",
    "\n",
    "\n",
    "thread1.start()\n",
    "thread2.start()\n",
    "\n",
    "\n",
    "thread1.join()\n",
    "thread2.join()\n",
    "\n",
    "print(\"Final list:\", shared_list)\n"
   ]
  },
  {
   "cell_type": "code",
   "execution_count": 11,
   "id": "f6b64d4e-c3ec-422d-9461-68b6c2e4c661",
   "metadata": {},
   "outputs": [],
   "source": [
    "#5. Describe the methods and tools available in Python for safely sharing data between threads and\n",
    "#processes."
   ]
  },
  {
   "cell_type": "code",
   "execution_count": 14,
   "id": "257738c2-57e8-465b-9acc-17f226f55f37",
   "metadata": {},
   "outputs": [],
   "source": [
    "#  Tool\t             Module\t                                          Use Case\n",
    "#1. Lock\t            threading\t                         Ensures mutual exclusion for data access in threads.\n",
    "#2. Condition\t    threading\t                          Allows threads to wait for certain conditions before proceeding.\n",
    "#3. Event\t        threading\t                          Simple signaling between threads (one thread sets the event, others wait).\n",
    "#4. Queue\t        multiprocessing\t                      A safe, FIFO data structure for sharing data between processes.\n",
    "#4. Pipe\t            multiprocessing\t                      Two-way communication channel for two processes.\n",
    "#5. Manager\t        multiprocessing\t                      Creates shared objects (list, dict, etc.) for safe inter-process communication.\n",
    "#6. Value/Array\t    multiprocessing\t                       Shared memory objects for basic data types (e.g., integers, floats) and arrays."
   ]
  },
  {
   "cell_type": "code",
   "execution_count": null,
   "id": "438bde77-e423-43e3-b808-11547655d350",
   "metadata": {},
   "outputs": [],
   "source": []
  },
  {
   "cell_type": "markdown",
   "id": "d667a66f-dbfb-429f-ab03-7d09026c1761",
   "metadata": {},
   "source": [
    "Why Exception Handling is Crucial in Concurrent Programs\n",
    "\n",
    "1. Unpredictable Termination:\n",
    "\n",
    "In concurrent programs, one thread or process may fail, leading to an abrupt termination of that part of the program. Without proper exception handling, this could leave shared resources in an inconsistent state or prevent other threads from continuing their work.\n",
    "\n",
    "2. Data Corruption:\n",
    "\n",
    "When multiple threads or processes access shared data, an unhandled exception in one of them could leave shared data in an inconsistent state. For example, one thread might crash while another is modifying shared memory, leading to corrupted data.\n",
    "Thread/Process Synchronization:\n",
    "\n",
    "In the absence of exception handling, the failure of one thread can cause other threads waiting on synchronization primitives (e.g., locks, semaphores) to block indefinitely. This can lead to deadlocks or other synchronization issues.\n",
    "\n",
    "3. Error Propagation:\n",
    "\n",
    "In concurrent programs, exceptions can be raised in different execution contexts (threads or processes). Without proper handling, these exceptions may go unnoticed or be improperly handled, leading to difficult-to-debug problems or crashes.\n",
    "\n",
    "    4. Graceful Shutdown:\n",
    "\n",
    "Exception handling ensures that when something goes wrong, the program can shut down gracefully, cleaning up resources (like open files, network connections, etc.) to avoid resource leakage or leaving the system in an inconsistent state."
   ]
  },
  {
   "cell_type": "code",
   "execution_count": 17,
   "id": "69b08ce9-15c3-4603-aa2b-c0aa30c469db",
   "metadata": {},
   "outputs": [],
   "source": [
    "#7. Create a program that uses a thread pool to calculate the factorial of numbers from 1 to 10 concurrently.\n",
    "#Use concurrent.futures.ThreadPoolExecutor to manage the threads."
   ]
  },
  {
   "cell_type": "code",
   "execution_count": 19,
   "id": "84a6fc75-28fb-42eb-82f3-cb64ede865fa",
   "metadata": {},
   "outputs": [
    {
     "name": "stdout",
     "output_type": "stream",
     "text": [
      "Factorial of 1 is 1\n",
      "Factorial of 2 is 2\n",
      "Factorial of 3 is 6\n",
      "Factorial of 4 is 24\n",
      "Factorial of 5 is 120\n",
      "Factorial of 6 is 720\n",
      "Factorial of 7 is 5040\n",
      "Factorial of 8 is 40320\n",
      "Factorial of 9 is 362880\n",
      "Factorial of 10 is 3628800\n"
     ]
    }
   ],
   "source": [
    "import concurrent.futures\n",
    "import math\n",
    "\n",
    "def calculate_factorial(n):\n",
    "    return math.factorial(n)\n",
    "\n",
    "def main():\n",
    "    with concurrent.futures.ThreadPoolExecutor() as executor:\n",
    "        futures = [executor.submit(calculate_factorial, i) for i in range(1, 11)]\n",
    "        for i, future in enumerate(futures, 1):\n",
    "            result = future.result()\n",
    "            print(f\"Factorial of {i} is {result}\")\n",
    "\n",
    "if __name__ == \"__main__\":\n",
    "    main()\n"
   ]
  },
  {
   "cell_type": "code",
   "execution_count": 21,
   "id": "7790eaea-c1b3-43d5-9789-0447c7d30e82",
   "metadata": {},
   "outputs": [],
   "source": [
    "#8. Create a Python program that uses multiprocessing.Pool to compute the square of numbers from 1 to 10 in\n",
    "#parallel. Measure the time taken to perform this computation using a pool of different sizes (e.g., 2, 4, 8\n",
    "#processes)."
   ]
  },
  {
   "cell_type": "code",
   "execution_count": null,
   "id": "48b3d0b9-d875-4f0d-a62d-2a4f48be0446",
   "metadata": {},
   "outputs": [],
   "source": [
    "import multiprocessing\n",
    "import time\n",
    "\n",
    "def square(n):\n",
    "    return n * n\n",
    "\n",
    "def compute_squares(pool_size):\n",
    "    # Create a pool of processes\n",
    "    with multiprocessing.Pool(pool_size) as pool:\n",
    "        # Use pool.map() to apply the square function to the numbers 1 to 10\n",
    "        result = pool.map(square, range(1, 11))\n",
    "    return result\n",
    "\n",
    "def main():\n",
    "    # List of different pool sizes to test\n",
    "    pool_sizes = [2, 4, 8]\n",
    "\n",
    "    # Compute the squares and measure the time for different pool sizes\n",
    "    for pool_size in pool_sizes:\n",
    "        start_time = time.time()  # Start timing\n",
    "        result = compute_squares(pool_size)\n",
    "        end_time = time.time()  # End timing\n",
    "        elapsed_time = end_time - start_time\n",
    "        \n",
    "        print(f\"Pool size: {pool_size}\")\n",
    "        print(f\"Squares: {result}\")\n",
    "        print(f\"Time taken: {elapsed_time:.4f} seconds\\n\")\n",
    "\n",
    "if __name__ == \"__main__\":\n",
    "    main()\n"
   ]
  },
  {
   "cell_type": "code",
   "execution_count": null,
   "id": "0105ade3-e110-45f9-bd79-35835a9c2f34",
   "metadata": {},
   "outputs": [],
   "source": []
  }
 ],
 "metadata": {
  "kernelspec": {
   "display_name": "Python 3 (ipykernel)",
   "language": "python",
   "name": "python3"
  },
  "language_info": {
   "codemirror_mode": {
    "name": "ipython",
    "version": 3
   },
   "file_extension": ".py",
   "mimetype": "text/x-python",
   "name": "python",
   "nbconvert_exporter": "python",
   "pygments_lexer": "ipython3",
   "version": "3.12.7"
  }
 },
 "nbformat": 4,
 "nbformat_minor": 5
}
